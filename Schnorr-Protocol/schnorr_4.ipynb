{
 "cells": [
  {
   "cell_type": "markdown",
   "id": "5ea5418b",
   "metadata": {},
   "source": [
    "# Example- Zero-Knowledge Proof of File Possession\n",
    "\n",
    "An investigator possesses a file $F$ and aims to prove ownership without revealing its content. This can be achieved using a Zero-Knowledge Proof (ZKP) based on cryptographic commitments.\n",
    "\n",
    "---\n",
    "\n",
    "## Workflow\n",
    "\n",
    "1. **Hash the File**: Compute the hash of the file, $h = H(F)$, using a secure cryptographic hash function.\n",
    "2. **Generate Commitment**: \n",
    "    - Choose a random nonce $r$.\n",
    "    - Compute the commitment $t = g^r \\mod p$, where $g$ is a generator of the group.\n",
    "3. **Derive Challenge**: \n",
    "    - Combine the file hash $h$ and the commitment $t$ to derive a challenge $c$ (e.g., using the Fiat-Shamir heuristic).\n",
    "4. **Compute Response**: \n",
    "    - Respond with $s = (r + c \\cdot x) \\mod q$, where $x$ is the secret derived from $h$.\n",
    "5. **Verification**: \n",
    "    - Verify the proof by checking if $g^s \\mod p = t \\cdot y^c \\mod p$, where $y = g^x \\mod p$ is the public value.\n",
    "\n",
    "---\n",
    "\n",
    "## Demonstration\n"
   ]
  },
  {
   "cell_type": "code",
   "execution_count": 28,
   "id": "205c67af",
   "metadata": {
    "tags": [
     "hide-input"
    ]
   },
   "outputs": [],
   "source": [
    "import random\n",
    "\n",
    "def generate_parameters():\n",
    "    while True:\n",
    "        # Generate a random prime p\n",
    "        p = random.randint(1000, 10000)\n",
    "        if all(p % i != 0 for i in range(2, int(p**0.5) + 1)):\n",
    "            # Find a prime q such that q divides p-1\n",
    "            for q in range(2, p):\n",
    "                if (p - 1) % q == 0 and all(q % i != 0 for i in range(2, int(q**0.5) + 1)):\n",
    "                    # Find a generator g for the subgroup of order q\n",
    "                    for g in range(2, p):\n",
    "                        if pow(g, q, p) == 1 and pow(g, (p-1)//q, p) != 1:\n",
    "                            return p, q, g\n",
    "\n",
    "def keygen(p, q, g):\n",
    "    x = random.randint(1, q-1)  # Prover's secret\n",
    "    y = pow(g, x, p)            # Public key\n",
    "    return x, y"
   ]
  },
  {
   "cell_type": "code",
   "execution_count": null,
   "id": "ac26d2f7",
   "metadata": {},
   "outputs": [
    {
     "name": "stdout",
     "output_type": "stream",
     "text": [
      "Zero-Knowledge Proof of file possession verified: True\n"
     ]
    }
   ],
   "source": [
    "import hashlib\n",
    "\n",
    "def schnorr_proof_of_possession(file_content, p, q, g):\n",
    "    # Step 1: Prover computes the hash of the file\n",
    "    h = int.from_bytes(hashlib.sha256(file_content).digest(), byteorder='big') % q\n",
    "    x = h  # Treat the hash as the secret x for proof\n",
    "\n",
    "    # Step 2: Compute the public value\n",
    "    y = pow(g, x, p)\n",
    "\n",
    "    # Step 3: Generate a random nonce and compute the commitment\n",
    "    r = random.randint(0, q - 1)\n",
    "    t = pow(g, r, p)\n",
    "\n",
    "    # Step 4: Derive the challenge deterministically\n",
    "    challenge_input = (str(t) + str(y)).encode()\n",
    "    c = int.from_bytes(hashlib.sha256(challenge_input).digest(), byteorder='big') % q\n",
    "\n",
    "    # Step 5: Compute the response\n",
    "    s = (r + c * x) % q\n",
    "\n",
    "    # Step 6: Verification\n",
    "    lhs = pow(g, s, p)\n",
    "    rhs = (t * pow(y, c, p)) % p\n",
    "\n",
    "    return lhs == rhs\n",
    "\n",
    "p, q, g = generate_parameters() \n",
    "file_content = b\"This is a confidential forensic file.\"\n",
    "\n",
    "# Perform the proof\n",
    "is_verified = schnorr_proof_of_possession(file_content, p, q, g)\n",
    "print(\"Zero-Knowledge Proof of file possession verified:\", is_verified)"
   ]
  },
  {
   "cell_type": "markdown",
   "id": "b9576d82",
   "metadata": {},
   "source": [
    "## Applying Schnorr in Digital Forensics\n",
    "\n",
    "The Schnorr protocol is a widely used ZKP that can be applied in various digital forensics scenarios. Below is a simplified example of how the Schnorr protocol can be implemented to prove file possession without revealing the file itself."
   ]
  },
  {
   "cell_type": "code",
   "execution_count": 19,
   "id": "fb0197d2",
   "metadata": {},
   "outputs": [
    {
     "name": "stdout",
     "output_type": "stream",
     "text": [
      "Schnorr Proof: {'commitment': 4964, 'challenge': 22, 'response': 9, 'public_value': 2943}\n",
      "Proof Valid: True\n"
     ]
    }
   ],
   "source": [
    "def schnorr_prove(file_content, p, q, g, x):\n",
    "    \"\"\"Generate Schnorr proof for file possession.\"\"\"\n",
    "    h = int.from_bytes(hashlib.sha256(file_content).digest(), byteorder='big') % q  # Hash of the file\n",
    "    r = random.randint(0, q - 1)  # Random nonce\n",
    "    t = pow(g, r, p)              # Commitment\n",
    "    c = int.from_bytes(hashlib.sha256((str(t) + str(h)).encode()).digest(), byteorder='big') % q  # Challenge\n",
    "    s = (r + c * x) % q           # Response\n",
    "    return {'commitment': t, 'challenge': c, 'response': s, 'public_value': pow(g, x, p)}\n",
    "\n",
    "def schnorr_verify(proof, file_content, p, q, g):\n",
    "    \"\"\"Verify Schnorr proof.\"\"\"\n",
    "    h = int.from_bytes(hashlib.sha256(file_content).digest(), byteorder='big') % q  # Hash of the file\n",
    "    t, c, s, y = proof['commitment'], proof['challenge'], proof['response'], proof['public_value']\n",
    "    lhs = pow(g, s, p)\n",
    "    rhs = (t * pow(y, c, p)) % p\n",
    "    return lhs == rhs\n",
    "\n",
    "# Example usage\n",
    "p, q, g = generate_parameters()\n",
    "x, y = keygen(p, q, g)  # Generate keys\n",
    "file_content = b\"Confidential forensic evidence\"\n",
    "proof = schnorr_prove(file_content, p, q, g, x)  # Generate proof\n",
    "is_valid = schnorr_verify(proof, file_content, p, q, g)  # Verify proof\n",
    "\n",
    "print(\"Schnorr Proof:\", proof)\n",
    "print(\"Proof Valid:\", is_valid)"
   ]
  },
  {
   "cell_type": "markdown",
   "id": "81391f68",
   "metadata": {},
   "source": [
    "## Verifying a File\n",
    "\n",
    "The following code demonstrates how Schnorr's protocol can be used to verify a file's integrity and detect tampering. The process involves:\n",
    "\n",
    "1. **Generating an Initial File**: A file is created with a specific message.\n",
    "2. **Generating a Proof**: A cryptographic proof is generated for the file using Schnorr's protocol.\n",
    "3. **Verifying the Proof**: The proof is verified against the original file to confirm its integrity.\n",
    "4. **Tampering with the File**: The file is modified to simulate tampering.\n",
    "5. **Re-verifying the Proof**: The proof is verified again after tampering. This verification will fail, demonstrating the detection of tampering.\n",
    "\n",
    "This workflow highlights the robustness of Schnorr's protocol in ensuring file integrity and detecting unauthorised modifications."
   ]
  },
  {
   "cell_type": "code",
   "execution_count": 29,
   "id": "7e0e2664",
   "metadata": {},
   "outputs": [
    {
     "name": "stdout",
     "output_type": "stream",
     "text": [
      "Verification before tampering: True\n",
      "Verification after tampering: False\n"
     ]
    }
   ],
   "source": [
    "def schnorr_prove(file_content, p, q, g, x):\n",
    "    h = int.from_bytes(hashlib.sha256(file_content).digest(), byteorder='big') % q\n",
    "    r = random.randint(0, q-1)\n",
    "    t = pow(g, r, p)\n",
    "    c = int.from_bytes(hashlib.sha256((str(t) + str(h)).encode()).digest(), byteorder='big') % q\n",
    "    s = (r + c * x) % q\n",
    "    return {'commitment': t, 'challenge': c, 'response': s, 'public_value': pow(g, x, p), 'hash': h}\n",
    "\n",
    "def schnorr_verify(proof, file_content, p, q, g):\n",
    "    h = int.from_bytes(hashlib.sha256(file_content).digest(), byteorder='big') % q\n",
    "    if h != proof['hash']:\n",
    "        return False  # If file hash doesn't match the original, instantly fail\n",
    "    t, c, s, y = proof['commitment'], proof['challenge'], proof['response'], proof['public_value']\n",
    "    lhs = pow(g, s, p)\n",
    "    rhs = (t * pow(y, c, p)) % p\n",
    "    return lhs == rhs\n",
    "\n",
    "# Step 1: Generate initial file\n",
    "file_name = \"evidence.txt\"\n",
    "initial_message = \"This is confidential forensic evidence.\"\n",
    "with open(file_name, \"w\") as f:\n",
    "    f.write(initial_message)\n",
    "\n",
    "# Step 2: Generate parameters, key, and proof\n",
    "p, q, g = generate_parameters()\n",
    "x, _ = keygen(p, q, g)\n",
    "\n",
    "with open(file_name, \"rb\") as f:\n",
    "    original_content = f.read()\n",
    "\n",
    "proof = schnorr_prove(original_content, p, q, g, x)\n",
    "\n",
    "# Step 3: Verify original file\n",
    "valid_before = schnorr_verify(proof, original_content, p, q, g)\n",
    "print(f\"Verification before tampering: {valid_before}\")\n",
    "\n",
    "# Step 4: Tamper with the file (add a word)\n",
    "tampered_message = initial_message + \" Altered.\"\n",
    "with open(file_name, \"w\") as f:\n",
    "    f.write(tampered_message)\n",
    "\n",
    "with open(file_name, \"rb\") as f:\n",
    "    tampered_content = f.read()\n",
    "\n",
    "# Step 5: Reverify after tampering\n",
    "valid_after = schnorr_verify(proof, tampered_content, p, q, g)\n",
    "print(f\"Verification after tampering: {valid_after}\")"
   ]
  }
 ],
 "metadata": {
  "kernelspec": {
   "display_name": "jupyter-books",
   "language": "python",
   "name": "python3"
  },
  "language_info": {
   "codemirror_mode": {
    "name": "ipython",
    "version": 3
   },
   "file_extension": ".py",
   "mimetype": "text/x-python",
   "name": "python",
   "nbconvert_exporter": "python",
   "pygments_lexer": "ipython3",
   "version": "3.13.2"
  }
 },
 "nbformat": 4,
 "nbformat_minor": 5
}
