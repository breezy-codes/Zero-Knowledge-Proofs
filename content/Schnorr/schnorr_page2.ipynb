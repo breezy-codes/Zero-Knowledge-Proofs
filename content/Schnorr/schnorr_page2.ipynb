{
 "cells": [
  {
   "cell_type": "markdown",
   "id": "ae2e9296",
   "metadata": {},
   "source": [
    "# Applications of Zero-Knowledge Proofs in Digital Forensics\n",
    "\n",
    "## Motivation\n",
    "\n",
    "In digital forensics, investigators are often required to prove the integrity, existence, or possession of digital evidence without disclosing its full content.  \n",
    "Zero-Knowledge Proofs (ZKPs) offer a cryptographic framework that can satisfy such requirements, enabling **privacy-preserving evidence verification**.\n",
    "\n",
    "---\n",
    "\n",
    "## Application Scenarios\n",
    "\n",
    "### 1. Proof of File Possession\n",
    "\n",
    "An investigator may wish to demonstrate that they possess a specific file (e.g., illegal media, encrypted evidence) without revealing the file contents.\n",
    "\n",
    "- Using a ZKP (such as a Schnorr-style commitment on the file hash), the investigator can prove knowledge of the file without revealing any part of it.\n",
    "- This satisfies both privacy regulations and chain-of-custody integrity.\n",
    "\n",
    "**Setup**:\n",
    "\n",
    "- File $F$.\n",
    "- Compute $h = H(F)$ using a secure hash function $H$.\n",
    "- Prove knowledge of preimage of $h$ using a zero-knowledge identification scheme.\n",
    "\n",
    "---\n",
    "\n",
    "### 2. Integrity Verification without Disclosure\n",
    "\n",
    "When presenting forensic findings to courts, investigators must verify that evidence has not been altered.\n",
    "\n",
    "ZKPs allow:\n",
    "\n",
    "- Verifying that a dataset matches an original record without disclosing sensitive metadata.\n",
    "- Demonstrating that private information was correctly processed according to lawful warrants without revealing non-relevant data.\n",
    "\n",
    "---\n",
    "\n",
    "### 3. Privacy-Preserving Chain-of-Custody Tracking\n",
    "\n",
    "Chain-of-custody logs can be enhanced with zero-knowledge proofs to:\n",
    "\n",
    "- Prove that a log entry occurred without exposing the full data.\n",
    "- Validate signatures on chain-of-custody events without revealing the event contents.\n",
    "\n",
    "This is particularly relevant for sensitive investigations (e.g., involving minors, corporate espionage).\n",
    "\n",
    "---"
   ]
  },
  {
   "cell_type": "markdown",
   "id": "5ea5418b",
   "metadata": {},
   "source": [
    "# Example: Zero-Knowledge Proof of File Hash\n",
    "\n",
    "Suppose an investigator holds a file $F$ and wants to prove possession of $F$ without disclosing it.\n",
    "\n",
    "### Sketch:\n",
    "\n",
    "- Choose random nonce $r$.\n",
    "- Compute commitment $t = g^r \\mod p$.\n",
    "- Hash file: $h = H(F)$.\n",
    "- Derive challenge $c$ based on $h$ and $t$.\n",
    "- Respond with $s = (r + c \\cdot x) \\mod q$, where $x$ is derived from $h$.\n",
    "\n",
    "---\n",
    "\n",
    "## Demonstration\n"
   ]
  },
  {
   "cell_type": "code",
   "execution_count": 1,
   "id": "86457022",
   "metadata": {},
   "outputs": [],
   "source": [
    "import random\n",
    "\n",
    "def generate_parameters():\n",
    "    # Use small safe primes for demonstration\n",
    "    p = 23  # Prime\n",
    "    q = 11  # Prime divisor of p-1\n",
    "    g = 2   # Generator\n",
    "    return p, q, g\n",
    "\n",
    "def keygen(p, q, g):\n",
    "    x = random.randint(1, q-1)  # Prover's secret\n",
    "    y = pow(g, x, p)            # Public key\n",
    "    return x, y"
   ]
  },
  {
   "cell_type": "code",
   "execution_count": 2,
   "id": "ac26d2f7",
   "metadata": {},
   "outputs": [
    {
     "name": "stdout",
     "output_type": "stream",
     "text": [
      "Zero-Knowledge Proof of file possession verified: True\n"
     ]
    }
   ],
   "source": [
    "import hashlib\n",
    "\n",
    "# Simple Schnorr-based possession proof of a file\n",
    "\n",
    "# Assume p, q, g already defined\n",
    "p, q, g = generate_parameters()\n",
    "\n",
    "# Prover: Possesses file F\n",
    "F = b\"This is a confidential forensic file.\"\n",
    "h = int.from_bytes(hashlib.sha256(F).digest(), byteorder='big') % q\n",
    "x = h  # Treat the hash as the secret x for proof\n",
    "\n",
    "y = pow(g, x, p)  # Public value\n",
    "\n",
    "# Commitment\n",
    "r = random.randint(0, q-1)\n",
    "t = pow(g, r, p)\n",
    "\n",
    "# Challenge derived deterministically (Fiat-Shamir style)\n",
    "challenge_input = str(t).encode()\n",
    "c = int.from_bytes(hashlib.sha256(challenge_input).digest(), byteorder='big') % q\n",
    "\n",
    "# Response\n",
    "s = (r + c * x) % q\n",
    "\n",
    "# Verification\n",
    "lhs = pow(g, s, p)\n",
    "rhs = (t * pow(y, c, p)) % p\n",
    "\n",
    "print(\"Zero-Knowledge Proof of file possession verified:\", lhs == rhs)"
   ]
  },
  {
   "cell_type": "markdown",
   "id": "edda5963",
   "metadata": {},
   "source": [
    "---\n",
    "\n",
    "# Challenges and Limitations\n",
    "\n",
    "- **Performance**: ZKPs add computational overhead; real-world forensic analysis must balance privacy vs. efficiency.\n",
    "- **Regulatory acceptance**: Courts must accept cryptographic proofs as valid evidence.\n",
    "- **Hash function security**: If the hash function is weak, file possession proofs can be forged."
   ]
  }
 ],
 "metadata": {
  "kernelspec": {
   "display_name": "latex",
   "language": "python",
   "name": "python3"
  },
  "language_info": {
   "codemirror_mode": {
    "name": "ipython",
    "version": 3
   },
   "file_extension": ".py",
   "mimetype": "text/x-python",
   "name": "python",
   "nbconvert_exporter": "python",
   "pygments_lexer": "ipython3",
   "version": "3.13.2"
  }
 },
 "nbformat": 4,
 "nbformat_minor": 5
}
