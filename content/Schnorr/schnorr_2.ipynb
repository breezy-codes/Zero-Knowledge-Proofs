{
 "cells": [
  {
   "cell_type": "markdown",
   "id": "5d507903",
   "metadata": {},
   "source": [
    "# Python Implementation of the Schnorr Identification Protocol\n",
    "\n",
    "This notebook presents a detailed Python implementation of the Schnorr Identification Protocol, a fundamental zero-knowledge proof system in cryptography. It serves as a practical complement to the theoretical discussion provided in [Intro to Schnorr](./schnorr_1.ipynb), where the mathematical foundations of the protocol are explored.\n",
    "\n",
    "---\n",
    "\n",
    "## Setup\n",
    "\n",
    "The setup involves defining functions for parameter generation and key creation. These functions are implemented manually in this notebook to provide a clear understanding of the protocol's inner workings."
   ]
  },
  {
   "cell_type": "code",
   "execution_count": 30,
   "id": "07d606cb",
   "metadata": {},
   "outputs": [],
   "source": [
    "import random\n",
    "\n",
    "def generate_parameters():\n",
    "    while True:\n",
    "        # Generate a random prime p\n",
    "        p = random.randint(20, 100)\n",
    "        if all(p % i != 0 for i in range(2, int(p**0.5) + 1)):\n",
    "            # Find a prime q such that q divides p-1\n",
    "            for q in range(2, p):\n",
    "                if (p - 1) % q == 0 and all(q % i != 0 for i in range(2, int(q**0.5) + 1)):\n",
    "                    # Find a generator g for the subgroup of order q\n",
    "                    for g in range(2, p):\n",
    "                        if pow(g, q, p) == 1 and pow(g, (p-1)//q, p) != 1:\n",
    "                            return p, q, g\n",
    "\n",
    "def keygen(p, q, g):\n",
    "    x = random.randint(1, q-1)  # Prover's secret\n",
    "    y = pow(g, x, p)            # Public key\n",
    "    return x, y"
   ]
  },
  {
   "cell_type": "markdown",
   "id": "80b26697",
   "metadata": {},
   "source": [
    "## Protocol Execution\n",
    "\n",
    "The following code snippets illustrate the process of proving the Schnorr Identification Protocol, the response and the verification steps."
   ]
  },
  {
   "cell_type": "code",
   "execution_count": 31,
   "id": "1c08fb6e",
   "metadata": {},
   "outputs": [],
   "source": [
    "def schnorr_prove(p, q, g, x):\n",
    "    r = random.randint(0, q-1)\n",
    "    t = pow(g, r, p)\n",
    "    return r, t\n",
    "\n",
    "def schnorr_response(p, q, g, x, r, c):\n",
    "    s = (r + c * x) % q\n",
    "    return s\n",
    "\n",
    "def schnorr_verify(p, q, g, y, t, c, s):\n",
    "    lhs = pow(g, s, p)\n",
    "    rhs = (t * pow(y, c, p)) % p\n",
    "    return lhs == rhs"
   ]
  },
  {
   "cell_type": "markdown",
   "id": "45b469a6",
   "metadata": {},
   "source": [
    "## Worked Example\n",
    "\n",
    "Let's work through a full protocol instance using small primes for easy verification."
   ]
  },
  {
   "cell_type": "code",
   "execution_count": 35,
   "id": "8f4b37c4",
   "metadata": {},
   "outputs": [
    {
     "name": "stdout",
     "output_type": "stream",
     "text": [
      "parameters generated: p = 89, q = 11, g = 2\n",
      "=== Schnorr Identification Protocol ===\n",
      "Public parameters: p = 89, q = 11, g = 2\n",
      "Prover's secret: x = 9\n",
      "Prover's public key: y = 67\n",
      "\n"
     ]
    }
   ],
   "source": [
    "# Generate small parameters for demonstration\n",
    "p, q, g = generate_parameters()\n",
    "print(f\"parameters generated: p = {p}, q = {q}, g = {g}\")\n",
    "x, y = keygen(p, q, g)\n",
    "\n",
    "print(\"=== Schnorr Identification Protocol ===\")\n",
    "print(f\"Public parameters: p = {p}, q = {q}, g = {g}\")\n",
    "print(f\"Prover's secret: x = {x}\")\n",
    "print(f\"Prover's public key: y = {y}\")\n",
    "print()"
   ]
  },
  {
   "cell_type": "markdown",
   "id": "38a2410b",
   "metadata": {},
   "source": [
    "### Example 1: Single protocol execution\n",
    "\n",
    "The honest prover successfully demonstrates knowledge of the secret `x`. The verifier accepts the proof, confirming the protocol's correctness."
   ]
  },
  {
   "cell_type": "code",
   "execution_count": 36,
   "id": "a251cea3",
   "metadata": {},
   "outputs": [
    {
     "name": "stdout",
     "output_type": "stream",
     "text": [
      "=== Example 1: Single Protocol Execution ===\n",
      "Prover selects random r = 0 and computes commitment t = 1\n",
      "Verifier selects random challenge c = 2\n",
      "Prover computes response s = 7\n",
      "Verification result: True\n",
      "\n"
     ]
    }
   ],
   "source": [
    "print(\"=== Example 1: Single Protocol Execution ===\")\n",
    "# Prover computes commitment\n",
    "r, t = schnorr_prove(p, q, g, x)\n",
    "print(f\"Prover selects random r = {r} and computes commitment t = {t}\")\n",
    "\n",
    "# Verifier sends challenge\n",
    "c = random.randint(0, q-1)\n",
    "print(f\"Verifier selects random challenge c = {c}\")\n",
    "\n",
    "# Prover computes response\n",
    "s = schnorr_response(p, q, g, x, r, c)\n",
    "print(f\"Prover computes response s = {s}\")\n",
    "\n",
    "# Verifier checks\n",
    "result = schnorr_verify(p, q, g, y, t, c, s)\n",
    "print(f\"Verification result: {result}\")\n",
    "print()"
   ]
  },
  {
   "cell_type": "markdown",
   "id": "15e0806e",
   "metadata": {},
   "source": [
    "### Example 2: Multiple protocol executions with different challenges\n",
    "\n",
    "The protocol is executed multiple times with different challenges. Each execution demonstrates the repeatability and robustness of the protocol."
   ]
  },
  {
   "cell_type": "code",
   "execution_count": 37,
   "id": "347c3616",
   "metadata": {},
   "outputs": [
    {
     "name": "stdout",
     "output_type": "stream",
     "text": [
      "=== Example 2: Multiple Protocol Executions ===\n",
      "--- Execution 1 ---\n",
      "Prover selects random r = 9 and computes commitment t = 67\n",
      "Verifier selects random challenge c = 8\n",
      "Prover computes response s = 4\n",
      "Verification result: True\n",
      "\n",
      "--- Execution 2 ---\n",
      "Prover selects random r = 9 and computes commitment t = 67\n",
      "Verifier selects random challenge c = 0\n",
      "Prover computes response s = 9\n",
      "Verification result: True\n",
      "\n",
      "--- Execution 3 ---\n",
      "Prover selects random r = 5 and computes commitment t = 32\n",
      "Verifier selects random challenge c = 8\n",
      "Prover computes response s = 0\n",
      "Verification result: True\n",
      "\n"
     ]
    }
   ],
   "source": [
    "print(\"=== Example 2: Multiple Protocol Executions ===\")\n",
    "for i in range(3):\n",
    "    print(f\"--- Execution {i+1} ---\")\n",
    "    # Prover computes commitment\n",
    "    r, t = schnorr_prove(p, q, g, x)\n",
    "    print(f\"Prover selects random r = {r} and computes commitment t = {t}\")\n",
    "\n",
    "    # Verifier sends challenge\n",
    "    c = random.randint(0, q-1)\n",
    "    print(f\"Verifier selects random challenge c = {c}\")\n",
    "\n",
    "    # Prover computes response\n",
    "    s = schnorr_response(p, q, g, x, r, c)\n",
    "    print(f\"Prover computes response s = {s}\")\n",
    "\n",
    "    # Verifier checks\n",
    "    result = schnorr_verify(p, q, g, y, t, c, s)\n",
    "    print(f\"Verification result: {result}\")\n",
    "    print()"
   ]
  },
  {
   "cell_type": "markdown",
   "id": "cb7d97ad",
   "metadata": {},
   "source": [
    "### Example 3: Simulating a cheating prover\n",
    "\n",
    "The cheating prover attempts to convince the verifier without knowing the secret. The verifier rejects the proof, demonstrating the protocol's soundness."
   ]
  },
  {
   "cell_type": "code",
   "execution_count": 41,
   "id": "89c97f75",
   "metadata": {},
   "outputs": [
    {
     "name": "stdout",
     "output_type": "stream",
     "text": [
      "=== Example 3: Simulating a Cheating Prover ===\n",
      "Cheating prover selects random fake_r = 8 and computes fake_t = 78\n",
      "Verifier selects random challenge c = 3\n",
      "Cheating prover sends fake response fake_s = 4\n",
      "Verification result: False (expected to fail)\n",
      "\n"
     ]
    }
   ],
   "source": [
    "print(\"=== Example 3: Simulating a Cheating Prover ===\")\n",
    "# Cheating prover does not know x but tries to fake a response\n",
    "fake_r = random.randint(0, q-1)\n",
    "fake_t = pow(g, fake_r, p)\n",
    "print(f\"Cheating prover selects random fake_r = {fake_r} and computes fake_t = {fake_t}\")\n",
    "\n",
    "# Verifier sends challenge\n",
    "c = random.randint(0, q-1)\n",
    "print(f\"Verifier selects random challenge c = {c}\")\n",
    "\n",
    "# Cheating prover tries to fake a response without knowing x\n",
    "fake_s = random.randint(0, q-1)\n",
    "print(f\"Cheating prover sends fake response fake_s = {fake_s}\")\n",
    "\n",
    "# Verifier checks\n",
    "result = schnorr_verify(p, q, g, y, fake_t, c, fake_s)\n",
    "print(f\"Verification result: {result} (expected to fail)\")\n",
    "print()"
   ]
  }
 ],
 "metadata": {
  "kernelspec": {
   "display_name": "jupyter-books",
   "language": "python",
   "name": "python3"
  },
  "language_info": {
   "codemirror_mode": {
    "name": "ipython",
    "version": 3
   },
   "file_extension": ".py",
   "mimetype": "text/x-python",
   "name": "python",
   "nbconvert_exporter": "python",
   "pygments_lexer": "ipython3",
   "version": "3.13.2"
  }
 },
 "nbformat": 4,
 "nbformat_minor": 5
}
