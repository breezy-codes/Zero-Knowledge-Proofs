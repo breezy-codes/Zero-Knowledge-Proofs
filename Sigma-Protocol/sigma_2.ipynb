{
 "cells": [
  {
   "cell_type": "markdown",
   "id": "5d507903",
   "metadata": {},
   "source": [
    "# Python Implementation of the Sigma Protocol\n",
    "\n",
    "This notebook presents a detailed Python implementation of the Sigma Protocol, a fundamental zero-knowledge proof system in cryptography. It serves as a practical complement to the theoretical discussion provided in [Intro to Sigma Protocols](./sigma_1.ipynb), where the mathematical foundations of the protocol are explored.\n",
    "\n",
    "---\n",
    "\n",
    "## Setup\n",
    "\n",
    "The setup involves defining functions for parameter generation and key creation. These functions are implemented manually in this notebook to provide a clear understanding of the protocol's inner workings."
   ]
  },
  {
   "cell_type": "code",
   "execution_count": 1,
   "id": "07d606cb",
   "metadata": {},
   "outputs": [],
   "source": [
    "import random\n",
    "\n",
    "def generate_parameters():\n",
    "    while True:\n",
    "        # Generate a random prime p\n",
    "        p = random.randint(20, 100)\n",
    "        if all(p % i != 0 for i in range(2, int(p**0.5) + 1)):\n",
    "            # Find a prime q such that q divides p-1\n",
    "            for q in range(2, p):\n",
    "                if (p - 1) % q == 0 and all(q % i != 0 for i in range(2, int(q**0.5) + 1)):\n",
    "                    # Find a generator g for the subgroup of order q\n",
    "                    for g in range(2, p):\n",
    "                        if pow(g, q, p) == 1 and pow(g, (p-1)//q, p) != 1:\n",
    "                            return p, q, g\n",
    "\n",
    "def keygen(p, q, g):\n",
    "    x = random.randint(1, q-1)  # Prover's secret\n",
    "    y = pow(g, x, p)            # Public key\n",
    "    return x, y"
   ]
  },
  {
   "cell_type": "markdown",
   "id": "80b26697",
   "metadata": {},
   "source": [
    "## Protocol Execution\n",
    "\n",
    "The following code snippets illustrate the process of proving the Schnorr Identification Protocol, the response and the verification steps."
   ]
  },
  {
   "cell_type": "code",
   "execution_count": 2,
   "id": "1c08fb6e",
   "metadata": {},
   "outputs": [],
   "source": [
    "def sigma_commit(p, q, g):\n",
    "    r = random.randint(0, q-1)\n",
    "    t = pow(g, r, p)\n",
    "    return r, t\n",
    "\n",
    "def sigma_response(q, x, r, c):\n",
    "    s = (r + c * x) % q\n",
    "    return s\n",
    "\n",
    "def sigma_verify(p, g, y, t, c, s):\n",
    "    lhs = pow(g, s, p)\n",
    "    rhs = (t * pow(y, c, p)) % p\n",
    "    return lhs == rhs"
   ]
  },
  {
   "cell_type": "markdown",
   "id": "45b469a6",
   "metadata": {},
   "source": [
    "## Worked Example\n",
    "\n",
    "Let's work through a full protocol instance using small primes for easy verification."
   ]
  },
  {
   "cell_type": "code",
   "execution_count": 3,
   "id": "8f4b37c4",
   "metadata": {},
   "outputs": [
    {
     "name": "stdout",
     "output_type": "stream",
     "text": [
      "Generated parameters: p = 79, q = 2, g = 78\n",
      "Public parameters: p = 79, q = 2, g = 78\n",
      "Prover's secret key: x = 1\n",
      "Prover's public key: y = 78\n",
      "\n"
     ]
    }
   ],
   "source": [
    "p, q, g = generate_parameters()\n",
    "print(f\"Generated parameters: p = {p}, q = {q}, g = {g}\")\n",
    "x, y = keygen(p, q, g)\n",
    "\n",
    "print(f\"Public parameters: p = {p}, q = {q}, g = {g}\")\n",
    "print(f\"Prover's secret key: x = {x}\")\n",
    "print(f\"Prover's public key: y = {y}\")\n",
    "print()"
   ]
  },
  {
   "cell_type": "markdown",
   "id": "38a2410b",
   "metadata": {},
   "source": [
    "### Example 1: Single protocol execution\n",
    "\n",
    "The honest prover successfully demonstrates knowledge of the secret `x`. The verifier accepts the proof, confirming the protocol's correctness."
   ]
  },
  {
   "cell_type": "code",
   "execution_count": 9,
   "id": "a251cea3",
   "metadata": {},
   "outputs": [
    {
     "name": "stdout",
     "output_type": "stream",
     "text": [
      "=== Example 1: Single Protocol Execution ===\n",
      "Prover commits with random r = 0 to produce t = 1\n",
      "Verifier selects random challenge c = 1\n",
      "Prover responds with s = 1\n",
      "Verifier checks and result is: True\n"
     ]
    }
   ],
   "source": [
    "print(\"=== Example 1: Single Protocol Execution ===\")\n",
    "# Constructing the Sigma Protocol\n",
    "r, t = sigma_commit(p, q, g)\n",
    "print(f\"Prover commits with random r = {r} to produce t = {t}\")\n",
    "\n",
    "# Adding a challenge\n",
    "c = random.randint(0, q-1)\n",
    "print(f\"Verifier selects random challenge c = {c}\")\n",
    "\n",
    "# Sigma response\n",
    "s = sigma_response(q, x, r, c)\n",
    "print(f\"Prover responds with s = {s}\")\n",
    "\n",
    "# Verification\n",
    "result = sigma_verify(p, g, y, t, c, s)\n",
    "print(f\"Verifier checks and result is: {result}\")"
   ]
  },
  {
   "cell_type": "markdown",
   "id": "15e0806e",
   "metadata": {},
   "source": [
    "### Example 2: Multiple protocol executions with different challenges\n",
    "\n",
    "The protocol is executed multiple times with different challenges. Each execution demonstrates the repeatability and robustness of the protocol."
   ]
  },
  {
   "cell_type": "code",
   "execution_count": 13,
   "id": "347c3616",
   "metadata": {},
   "outputs": [
    {
     "name": "stdout",
     "output_type": "stream",
     "text": [
      "=== Example 2: Multiple Protocol Executions ===\n",
      "\n",
      "--- Execution 1 ---\n",
      "Prover commits with random r = 1 to produce t = 78\n",
      "Verifier selects challenge c = 1\n",
      "Prover responds with s = 0\n",
      "Verification result: True\n",
      "\n",
      "--- Execution 2 ---\n",
      "Prover commits with random r = 0 to produce t = 1\n",
      "Verifier selects challenge c = 1\n",
      "Prover responds with s = 1\n",
      "Verification result: True\n",
      "\n",
      "--- Execution 3 ---\n",
      "Prover commits with random r = 0 to produce t = 1\n",
      "Verifier selects challenge c = 0\n",
      "Prover responds with s = 0\n",
      "Verification result: True\n"
     ]
    }
   ],
   "source": [
    "print(\"=== Example 2: Multiple Protocol Executions ===\")\n",
    "for i in range(3):\n",
    "    print(f\"\\n--- Execution {i+1} ---\")\n",
    "    \n",
    "    # Prover computes commitment\n",
    "    r, t = sigma_commit(p, q, g)\n",
    "    print(f\"Prover commits with random r = {r} to produce t = {t}\")\n",
    "\n",
    "    # Verifier sends challenge\n",
    "    c = random.randint(0, q-1)\n",
    "    print(f\"Verifier selects challenge c = {c}\")\n",
    "\n",
    "    # Prover computes response\n",
    "    s = sigma_response(q, x, r, c)\n",
    "    print(f\"Prover responds with s = {s}\")\n",
    "\n",
    "    # Verifier checks\n",
    "    result = sigma_verify(p, g, y, t, c, s)\n",
    "    print(f\"Verification result: {result}\")"
   ]
  },
  {
   "cell_type": "markdown",
   "id": "cb7d97ad",
   "metadata": {},
   "source": [
    "### Example 3: Simulating a cheating prover\n",
    "\n",
    "The cheating prover attempts to convince the verifier without knowing the secret. The verifier rejects the proof, demonstrating the protocol's soundness."
   ]
  },
  {
   "cell_type": "code",
   "execution_count": 8,
   "id": "89c97f75",
   "metadata": {},
   "outputs": [
    {
     "name": "stdout",
     "output_type": "stream",
     "text": [
      "=== Example 3: Simulating a Cheating Prover ===\n",
      "Cheating prover sends fake commitment fake_t = 78\n",
      "Verifier selects challenge c = 0\n",
      "Cheating prover sends fake response fake_s = 0\n",
      "Verification result (expected to fail): False\n"
     ]
    }
   ],
   "source": [
    "print(\"=== Example 3: Simulating a Cheating Prover ===\")\n",
    "# Cheating prover does not know x but tries to fake a response\n",
    "fake_r = random.randint(0, q-1)\n",
    "fake_t = pow(g, fake_r, p)\n",
    "print(f\"Cheating prover sends fake commitment fake_t = {fake_t}\")\n",
    "\n",
    "# Verifier sends challenge\n",
    "c = random.randint(0, q-1)\n",
    "print(f\"Verifier selects challenge c = {c}\")\n",
    "\n",
    "# Cheating prover tries to fake a response without knowing x\n",
    "fake_s = random.randint(0, q-1)\n",
    "print(f\"Cheating prover sends fake response fake_s = {fake_s}\")\n",
    "\n",
    "# Verifier checks\n",
    "result = sigma_verify(p, g, y, fake_t, c, fake_s)\n",
    "print(f\"Verification result (expected to fail): {result}\")"
   ]
  }
 ],
 "metadata": {
  "kernelspec": {
   "display_name": "jupyter-books",
   "language": "python",
   "name": "python3"
  },
  "language_info": {
   "codemirror_mode": {
    "name": "ipython",
    "version": 3
   },
   "file_extension": ".py",
   "mimetype": "text/x-python",
   "name": "python",
   "nbconvert_exporter": "python",
   "pygments_lexer": "ipython3",
   "version": "3.13.2"
  }
 },
 "nbformat": 4,
 "nbformat_minor": 5
}
